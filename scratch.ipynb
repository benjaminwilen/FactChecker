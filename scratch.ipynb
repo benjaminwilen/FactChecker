{
 "cells": [
  {
   "cell_type": "code",
   "execution_count": 2,
   "metadata": {},
   "outputs": [],
   "source": [
    "from FactChecker import * #imports all functions from chatbot.py\n",
    "\n",
    "# The lines below auto-reload the code you write in chatbot.py \n",
    "%load_ext autoreload\n",
    "%autoreload 2"
   ]
  },
  {
   "cell_type": "code",
   "execution_count": 40,
   "metadata": {},
   "outputs": [
    {
     "name": "stdout",
     "output_type": "stream",
     "text": [
      "Training DN classifier\n",
      "Iteration=0, Loss=1.7844820022583008\n",
      "Iteration=1000, Loss=1.5980836153030396\n",
      "Iteration=2000, Loss=1.5320826768875122\n",
      "Iteration=3000, Loss=1.527785062789917\n",
      "Iteration=4000, Loss=1.3450871706008911\n",
      "Iteration=5000, Loss=1.1396920680999756\n",
      "Iteration=6000, Loss=1.2188292741775513\n",
      "Iteration=7000, Loss=1.305119276046753\n",
      "Iteration=8000, Loss=0.7206370830535889\n",
      "Iteration=9000, Loss=0.8385998606681824\n",
      "Predicting test set\n",
      "Test Set Accuracy:  0.2625\n"
     ]
    }
   ],
   "source": [
    "fc = FactChecker(\"bert\", \"OR\")\n",
    "fc.trainClassifier()\n",
    "print(\"Test Set Accuracy: \", fc.get_training_data_accuracy())"
   ]
  },
  {
   "cell_type": "code",
   "execution_count": 41,
   "metadata": {},
   "outputs": [
    {
     "name": "stdout",
     "output_type": "stream",
     "text": [
      "Training DN classifier\n",
      "Iteration=0, Loss=1.7826895713806152\n",
      "Iteration=1000, Loss=1.7162461280822754\n",
      "Iteration=2000, Loss=1.6164730787277222\n",
      "Iteration=3000, Loss=1.6928951740264893\n",
      "Iteration=4000, Loss=1.5545001029968262\n",
      "Iteration=5000, Loss=1.6166396141052246\n",
      "Iteration=6000, Loss=1.5616587400436401\n",
      "Iteration=7000, Loss=1.718727469444275\n",
      "Iteration=8000, Loss=1.5975743532180786\n",
      "Iteration=9000, Loss=1.510524034500122\n",
      "Predicting test set\n",
      "Test Set Accuracy:  0.25583333333333336\n"
     ]
    }
   ],
   "source": [
    "fc = FactChecker(\"t5-small\", \"OR\")\n",
    "fc.trainClassifier()\n",
    "print(\"Test Set Accuracy: \", fc.get_training_data_accuracy())"
   ]
  },
  {
   "cell_type": "code",
   "execution_count": null,
   "metadata": {},
   "outputs": [
    {
     "name": "stdout",
     "output_type": "stream",
     "text": [
      "Training OR classifier\n",
      "Warning: Maximum number of iterations has been exceeded.\n",
      "         Current function value: 1.533758\n",
      "         Iterations: 500\n",
      "         Function evaluations: 502\n",
      "         Gradient evaluations: 502\n"
     ]
    }
   ],
   "source": [
    "fc = FactChecker(\"t5-large\", \"OR\")\n",
    "fc.trainClassifier()\n",
    "print(\"Test Set Accuracy: \", fc.get_training_data_accuracy())"
   ]
  },
  {
   "cell_type": "code",
   "execution_count": null,
   "metadata": {},
   "outputs": [],
   "source": []
  }
 ],
 "metadata": {
  "kernelspec": {
   "display_name": "Python 3 (ipykernel)",
   "language": "python",
   "name": "python3"
  },
  "language_info": {
   "codemirror_mode": {
    "name": "ipython",
    "version": 3
   },
   "file_extension": ".py",
   "mimetype": "text/x-python",
   "name": "python",
   "nbconvert_exporter": "python",
   "pygments_lexer": "ipython3",
   "version": "3.8.16"
  }
 },
 "nbformat": 4,
 "nbformat_minor": 2
}
