{
 "cells": [
  {
   "cell_type": "code",
   "execution_count": 38,
   "metadata": {},
   "outputs": [
    {
     "name": "stdout",
     "output_type": "stream",
     "text": [
      "The autoreload extension is already loaded. To reload it, use:\n",
      "  %reload_ext autoreload\n"
     ]
    }
   ],
   "source": [
    "from FactChecker import * #imports all functions from chatbot.py\n",
    "\n",
    "# The li|nes below auto-reload the code you write in chatbot.py \n",
    "%load_ext autoreload\n",
    "%autoreload 2"
   ]
  },
  {
   "cell_type": "code",
   "execution_count": null,
   "metadata": {},
   "outputs": [],
   "source": [
    "print(\"USING LOGIT\")"
   ]
  },
  {
   "cell_type": "code",
   "execution_count": 3,
   "metadata": {},
   "outputs": [
    {
     "name": "stdout",
     "output_type": "stream",
     "text": [
      "Training OR classifier\n",
      "Optimization terminated successfully.\n",
      "         Current function value: 1.529573\n",
      "         Iterations: 413\n",
      "         Function evaluations: 415\n",
      "         Gradient evaluations: 415\n"
     ]
    },
    {
     "name": "stderr",
     "output_type": "stream",
     "text": [
      "/Users/benjaminwilen/miniconda3/envs/cs375/lib/python3.8/site-packages/statsmodels/base/model.py:592: HessianInversionWarning: Inverting hessian failed, no bse or cov_params available\n",
      "  warnings.warn('Inverting hessian failed, no bse or cov_params '\n"
     ]
    },
    {
     "name": "stdout",
     "output_type": "stream",
     "text": [
      "Predicting test set\n",
      "Test Set bert Accuracy:  0.28\n",
      "Training OR classifier\n",
      "Warning: Maximum number of iterations has been exceeded.\n",
      "         Current function value: 1.586145\n",
      "         Iterations: 500\n",
      "         Function evaluations: 503\n",
      "         Gradient evaluations: 503\n"
     ]
    },
    {
     "name": "stderr",
     "output_type": "stream",
     "text": [
      "/Users/benjaminwilen/miniconda3/envs/cs375/lib/python3.8/site-packages/statsmodels/base/model.py:592: HessianInversionWarning: Inverting hessian failed, no bse or cov_params available\n",
      "  warnings.warn('Inverting hessian failed, no bse or cov_params '\n",
      "/Users/benjaminwilen/miniconda3/envs/cs375/lib/python3.8/site-packages/statsmodels/base/model.py:604: ConvergenceWarning: Maximum Likelihood optimization failed to converge. Check mle_retvals\n",
      "  warnings.warn(\"Maximum Likelihood optimization failed to \"\n"
     ]
    },
    {
     "name": "stdout",
     "output_type": "stream",
     "text": [
      "Predicting test set\n",
      "Test Set t5-small Accuracy:  0.26416666666666666\n",
      "Training OR classifier\n",
      "Warning: Maximum number of iterations has been exceeded.\n",
      "         Current function value: 1.529771\n",
      "         Iterations: 500\n",
      "         Function evaluations: 501\n",
      "         Gradient evaluations: 501\n",
      "Predicting test set\n",
      "Test Set t5-large Accuracy:  0.26916666666666667\n",
      "pants-fire:  0.5\n",
      "false:  0.17666666666666667\n",
      "mostly-false:  0.18500000000000003\n",
      "half-true:  0.18166666666666664\n",
      "mostly-true:  0.16333333333333333\n",
      "true:  0.42\n"
     ]
    },
    {
     "name": "stderr",
     "output_type": "stream",
     "text": [
      "/Users/benjaminwilen/miniconda3/envs/cs375/lib/python3.8/site-packages/statsmodels/base/model.py:604: ConvergenceWarning: Maximum Likelihood optimization failed to converge. Check mle_retvals\n",
      "  warnings.warn(\"Maximum Likelihood optimization failed to \"\n"
     ]
    }
   ],
   "source": [
    "import numpy as np\n",
    "pf = 0\n",
    "f = 0\n",
    "mf = 0\n",
    "ht = 0\n",
    "mt = 0\n",
    "t = 0\n",
    "for model in [\"bert\", \"t5-small\",\"t5-large\"]:\n",
    "    fc = FactChecker(model, \"DN\")\n",
    "    fc.trainClassifier()\n",
    "    print(f\"Test Set {model} Accuracy: \", fc.get_training_data_accuracy())\n",
    "    pf += np.mean(fc.predictions[:200] == fc.y[:200])\n",
    "    f += np.mean(fc.predictions[200:400] == fc.y[200:400])\n",
    "    mf += np.mean(fc.predictions[400:600] == fc.y[400:600])\n",
    "    ht += np.mean(fc.predictions[600:800] == fc.y[600:800])\n",
    "    mt += np.mean(fc.predictions[800:1000] == fc.y[800:1000])\n",
    "    t += np.mean(fc.predictions[1000:] == fc.y[1000:])\n",
    "\n",
    "print(\"pants-fire: \", pf / 3)\n",
    "print(\"false: \", f / 3)\n",
    "print(\"mostly-false: \", mf / 3)\n",
    "print(\"half-true: \", ht / 3)\n",
    "print(\"mostly-true: \", mt / 3)\n",
    "print(\"true: \", t / 3)"
   ]
  },
  {
   "cell_type": "code",
   "execution_count": 5,
   "metadata": {},
   "outputs": [
    {
     "name": "stdout",
     "output_type": "stream",
     "text": [
      "All three averaged: \n",
      "pants-fire:  0.5366666666666666\n",
      "false:  0.15\n",
      "mostly-false:  0.14666666666666667\n",
      "half-true:  0.15\n",
      "mostly-true:  0.13\n",
      "true:  0.49666666666666676\n"
     ]
    }
   ],
   "source": [
    "print(\"All three averaged: \")\n",
    "print(\"pants-fire: \", (.505 + .54 + .565) / 3)\n",
    "print(\"false: \", (.165 + .165 + .12) / 3)\n",
    "print(\"mostly-false: \", (.16 + .155 + .125) / 3)\n",
    "print(\"half-true: \", (.15 + .145 + .155) / 3)\n",
    "print(\"mostly-true: \", (.145 + .135 + .11) / 3)\n",
    "print(\"true: \", (.495 + .44 + .555) / 3)"
   ]
  },
  {
   "cell_type": "code",
   "execution_count": 49,
   "metadata": {
    "scrolled": true
   },
   "outputs": [
    {
     "name": "stdout",
     "output_type": "stream",
     "text": [
      "0.0\n",
      "0.0\n",
      "0.0\n",
      "0.0\n",
      "0.0\n",
      "0.0\n",
      "Accuracy for LR: 0.001 Dim: (256, 128) Dropout: 0.1 ::: 0.0\n",
      "0.0\n",
      "0.0\n",
      "0.0\n",
      "0.0\n",
      "0.0\n",
      "0.0\n",
      "Accuracy for LR: 0.001 Dim: (256, 128) Dropout: 0.25 ::: 0.0\n",
      "0.0\n",
      "0.0\n",
      "0.0\n",
      "0.0\n",
      "0.0\n",
      "0.0\n",
      "Accuracy for LR: 0.001 Dim: (256, 128) Dropout: 0.5 ::: 0.0\n",
      "0.0\n",
      "0.0\n",
      "0.0\n",
      "0.0\n",
      "0.0\n",
      "0.0\n",
      "Accuracy for LR: 0.001 Dim: (128, 64) Dropout: 0.1 ::: 0.0\n",
      "0.0\n",
      "0.0\n",
      "0.0\n",
      "0.0\n",
      "0.0\n",
      "0.0\n",
      "Accuracy for LR: 0.001 Dim: (128, 64) Dropout: 0.25 ::: 0.0\n",
      "0.0\n",
      "0.0\n",
      "0.0\n",
      "0.0\n",
      "0.0\n",
      "0.0\n",
      "Accuracy for LR: 0.001 Dim: (128, 64) Dropout: 0.5 ::: 0.0\n",
      "0.0\n",
      "0.0\n",
      "0.0\n",
      "0.0\n",
      "0.0\n",
      "0.0\n",
      "Accuracy for LR: 0.001 Dim: (64, 32) Dropout: 0.1 ::: 0.0\n",
      "0.0\n",
      "0.0\n",
      "0.0\n",
      "0.0\n",
      "0.0\n",
      "0.0\n",
      "Accuracy for LR: 0.001 Dim: (64, 32) Dropout: 0.25 ::: 0.0\n",
      "0.0\n",
      "0.0\n",
      "0.0\n",
      "0.0\n",
      "0.0\n",
      "0.0\n",
      "Accuracy for LR: 0.001 Dim: (64, 32) Dropout: 0.5 ::: 0.0\n",
      "0.0\n",
      "0.0\n",
      "0.0\n",
      "0.0\n",
      "0.0\n",
      "0.0\n",
      "Accuracy for LR: 0.01 Dim: (256, 128) Dropout: 0.1 ::: 0.0\n",
      "0.0\n",
      "0.0\n",
      "0.0\n",
      "0.0\n",
      "0.0\n",
      "0.0\n",
      "Accuracy for LR: 0.01 Dim: (256, 128) Dropout: 0.25 ::: 0.0\n",
      "0.0\n",
      "0.0\n",
      "0.0\n",
      "0.0\n",
      "0.0\n",
      "0.0\n",
      "Accuracy for LR: 0.01 Dim: (256, 128) Dropout: 0.5 ::: 0.0\n",
      "0.0\n",
      "0.0\n",
      "0.0\n",
      "0.0\n",
      "0.0\n",
      "0.0\n",
      "Accuracy for LR: 0.01 Dim: (128, 64) Dropout: 0.1 ::: 0.0\n",
      "0.0\n",
      "0.0\n",
      "0.0\n",
      "0.0\n",
      "0.0\n",
      "0.0\n",
      "Accuracy for LR: 0.01 Dim: (128, 64) Dropout: 0.25 ::: 0.0\n",
      "0.0\n",
      "0.0\n",
      "0.0\n",
      "0.0\n",
      "0.0\n",
      "0.0\n",
      "Accuracy for LR: 0.01 Dim: (128, 64) Dropout: 0.5 ::: 0.0\n",
      "0.0\n",
      "0.0\n",
      "0.0\n",
      "0.0\n",
      "0.0\n",
      "0.0\n",
      "Accuracy for LR: 0.01 Dim: (64, 32) Dropout: 0.1 ::: 0.0\n",
      "0.0\n",
      "0.0\n",
      "0.0\n",
      "0.0\n",
      "0.0\n",
      "0.0\n",
      "Accuracy for LR: 0.01 Dim: (64, 32) Dropout: 0.25 ::: 0.0\n",
      "0.0\n",
      "0.0\n",
      "0.0\n",
      "0.0\n",
      "0.0\n",
      "0.0\n",
      "Accuracy for LR: 0.01 Dim: (64, 32) Dropout: 0.5 ::: 0.0\n",
      "0.0\n",
      "0.0\n",
      "0.0\n",
      "0.0\n",
      "0.0\n",
      "0.0\n",
      "Accuracy for LR: 0.1 Dim: (256, 128) Dropout: 0.1 ::: 0.0\n",
      "0.0\n",
      "0.0\n",
      "0.0\n",
      "0.0\n",
      "0.0\n",
      "0.0\n",
      "Accuracy for LR: 0.1 Dim: (256, 128) Dropout: 0.25 ::: 0.0\n",
      "0.0\n",
      "0.0\n",
      "0.0\n",
      "0.0\n",
      "0.0\n",
      "0.0\n",
      "Accuracy for LR: 0.1 Dim: (256, 128) Dropout: 0.5 ::: 0.0\n",
      "0.0\n",
      "0.0\n",
      "0.0\n",
      "0.0\n",
      "0.0\n",
      "0.0\n",
      "Accuracy for LR: 0.1 Dim: (128, 64) Dropout: 0.1 ::: 0.0\n",
      "0.0\n",
      "0.0\n",
      "0.0\n",
      "0.0\n",
      "0.0\n",
      "0.0\n",
      "Accuracy for LR: 0.1 Dim: (128, 64) Dropout: 0.25 ::: 0.0\n",
      "0.0\n",
      "0.0\n",
      "0.0\n",
      "0.0\n",
      "0.0\n",
      "0.0\n",
      "Accuracy for LR: 0.1 Dim: (128, 64) Dropout: 0.5 ::: 0.0\n",
      "0.0\n",
      "0.0\n",
      "0.0\n",
      "0.0\n",
      "0.0\n",
      "0.0\n",
      "Accuracy for LR: 0.1 Dim: (64, 32) Dropout: 0.1 ::: 0.0\n",
      "0.0\n",
      "0.0\n",
      "0.0\n",
      "0.0\n",
      "0.0\n",
      "0.0\n",
      "Accuracy for LR: 0.1 Dim: (64, 32) Dropout: 0.25 ::: 0.0\n",
      "0.0\n",
      "0.0\n",
      "0.0\n",
      "0.0\n",
      "0.0\n",
      "0.0\n",
      "Accuracy for LR: 0.1 Dim: (64, 32) Dropout: 0.5 ::: 0.0\n"
     ]
    }
   ],
   "source": [
    "fc = FactChecker(\"bert\", \"DN\")\n",
    "fc.crossValidation()"
   ]
  },
  {
   "cell_type": "code",
   "execution_count": 51,
   "metadata": {},
   "outputs": [
    {
     "name": "stdout",
     "output_type": "stream",
     "text": [
      "pants-fire:  0.345\n",
      "false:  0.295\n",
      "mostly-false:  0.1\n",
      "half-true:  0.175\n",
      "mostly-true:  0.225\n",
      "true:  0.46\n"
     ]
    }
   ],
   "source": [
    "import numpy as np\n",
    "print(\"pants-fire: \", np.mean(fc.predictions[:200] == fc.y[:200]))\n",
    "print(\"false: \", np.mean(fc.predictions[200:400] == fc.y[200:400]))\n",
    "print(\"mostly-false: \", np.mean(fc.predictions[400:600] == fc.y[400:600]))\n",
    "print(\"half-true: \", np.mean(fc.predictions[600:800] == fc.y[600:800]))\n",
    "print(\"mostly-true: \", np.mean(fc.predictions[800:1000] == fc.y[800:1000]))\n",
    "print(\"true: \", np.mean(fc.predictions[1000:] == fc.y[1000:]))"
   ]
  },
  {
   "cell_type": "code",
   "execution_count": null,
   "metadata": {},
   "outputs": [],
   "source": [
    "fc = FactChecker(\"t5-large\", \"OR\")\n",
    "fc.trainClassifier()\n",
    "print(\"Test Set Accuracy: \", fc.get_training_data_accuracy())"
   ]
  },
  {
   "cell_type": "code",
   "execution_count": 5,
   "metadata": {},
   "outputs": [
    {
     "name": "stdout",
     "output_type": "stream",
     "text": [
      "Training LR classifier\n"
     ]
    },
    {
     "name": "stderr",
     "output_type": "stream",
     "text": [
      "/Users/benjaminwilen/miniconda3/envs/cs375/lib/python3.8/site-packages/sklearn/linear_model/_logistic.py:458: ConvergenceWarning: lbfgs failed to converge (status=1):\n",
      "STOP: TOTAL NO. of ITERATIONS REACHED LIMIT.\n",
      "\n",
      "Increase the number of iterations (max_iter) or scale the data as shown in:\n",
      "    https://scikit-learn.org/stable/modules/preprocessing.html\n",
      "Please also refer to the documentation for alternative solver options:\n",
      "    https://scikit-learn.org/stable/modules/linear_model.html#logistic-regression\n",
      "  n_iter_i = _check_optimize_result(\n"
     ]
    }
   ],
   "source": [
    "fc = FactChecker(\"t5-small\", \"LR\")\n",
    "fc.trainClassifier()"
   ]
  },
  {
   "cell_type": "code",
   "execution_count": 14,
   "metadata": {},
   "outputs": [
    {
     "data": {
      "text/plain": [
       "['half-true']"
      ]
     },
     "execution_count": 14,
     "metadata": {},
     "output_type": "execute_result"
    }
   ],
   "source": [
    "fc.factCheck([\"Obama was the vice president of the United States\"])"
   ]
  },
  {
   "cell_type": "code",
   "execution_count": 15,
   "metadata": {},
   "outputs": [
    {
     "data": {
      "text/plain": [
       "['half-true']"
      ]
     },
     "execution_count": 15,
     "metadata": {},
     "output_type": "execute_result"
    }
   ],
   "source": [
    "fc.factCheck([\"Obama is the President of the United States of America\"])"
   ]
  },
  {
   "cell_type": "code",
   "execution_count": 17,
   "metadata": {},
   "outputs": [
    {
     "data": {
      "text/plain": [
       "['true']"
      ]
     },
     "execution_count": 17,
     "metadata": {},
     "output_type": "execute_result"
    }
   ],
   "source": [
    "fc.factCheck([\"Obama was the 45th president of the United States\"])"
   ]
  },
  {
   "cell_type": "code",
   "execution_count": 12,
   "metadata": {},
   "outputs": [
    {
     "data": {
      "text/plain": [
       "['true']"
      ]
     },
     "execution_count": 12,
     "metadata": {},
     "output_type": "execute_result"
    }
   ],
   "source": [
    "fc.factCheck([\"Ben said, Kansas has won the NCAA mens basketball championship 3 times\"])"
   ]
  },
  {
   "cell_type": "code",
   "execution_count": null,
   "metadata": {},
   "outputs": [],
   "source": []
  }
 ],
 "metadata": {
  "kernelspec": {
   "display_name": "Python 3 (ipykernel)",
   "language": "python",
   "name": "python3"
  },
  "language_info": {
   "codemirror_mode": {
    "name": "ipython",
    "version": 3
   },
   "file_extension": ".py",
   "mimetype": "text/x-python",
   "name": "python",
   "nbconvert_exporter": "python",
   "pygments_lexer": "ipython3",
   "version": "3.8.16"
  }
 },
 "nbformat": 4,
 "nbformat_minor": 2
}
