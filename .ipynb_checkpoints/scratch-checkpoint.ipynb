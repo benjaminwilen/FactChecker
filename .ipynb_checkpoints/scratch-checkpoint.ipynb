{
 "cells": [
  {
   "cell_type": "code",
   "execution_count": 1,
   "metadata": {},
   "outputs": [],
   "source": [
    "from StatementEmbeddings import * #imports all functions from chatbot.py\n",
    "\n",
    "# The lines below auto-reload the code you write in chatbot.py \n",
    "%load_ext autoreload\n",
    "%autoreload 2"
   ]
  },
  {
   "cell_type": "code",
   "execution_count": 6,
   "metadata": {},
   "outputs": [],
   "source": [
    "module = StatementEmbeddings('politifact_factcheck_data.json')"
   ]
  },
  {
   "cell_type": "code",
   "execution_count": 7,
   "metadata": {},
   "outputs": [
    {
     "data": {
      "text/plain": [
       "{'X_train': array(['Viral image said, \\'Photo shows Joe Biden’s license plate says \"THEBIGGUY.\"\\'',\n",
       "        'Facebook posts said, \\'\"Hillary Clinton is on trial, she (supposed) to have killed\" a 10-year-old girl.\\'',\n",
       "        'Facebook posts said, \\'A CDC report found that \"people who wear masks, are actually ‘collecting’ the virus in their masks.\"\\'',\n",
       "        ...,\n",
       "        'Greg Abbott said, \\'Says Texas \"high school graduation rates are at all-time highs.\"\\'',\n",
       "        'Ohio Department of Transportation said, \\'\"Demand for transportation choice is on the rise, with 14 percent more Ohioans riding passenger trains over the past year.\"\\'',\n",
       "        'Chris Larson said, \\'\"(Republicans) have the power to overturn the (state of emergency) order by joint resolution and they refuse to do it.\"\\''],\n",
       "       dtype='<U463'),\n",
       " 'y_train': array([0, 0, 0, ..., 5, 5, 5]),\n",
       " 'X_dev': array(['Facebook posts said, \\'\"Autopsies prove that COVID-19 is\" a blood clot, not pneumonia, \"and ought to be fought with antibiotics\" and the whole world has been wrong in treating the \"so-called\" pandemic.\\'',\n",
       "        'Rick Perry said, \\'\"Abortion is the second-most conducted surgical procedure in this country.\"\\'',\n",
       "        'Chris Sununu said, \\'\"The Democrats are very sly. … (in New Hampshire) we have same day voter registration, and to be honest, when Massachusetts elections are not very close, they’re busing them in all over the place.\"\\'',\n",
       "        ...,\n",
       "        \"Todd Staples said, 'Says the U.S. Constitution provides for just compensation when land is taken under eminent domain.'\",\n",
       "        'Richard Corcoran said, \\'\"90 percent of babies with Down syndrome are aborted.\"\\'',\n",
       "        'George Will said, \\'Greece \"has a GDP the size of the Dallas-Fort Worth Metroplex.\"\\''],\n",
       "       dtype='<U356'),\n",
       " 'y_dev': array([0, 0, 0, ..., 5, 5, 5]),\n",
       " 'X_test': array(['Barack Obama said, \\'\"And 100 percent, John, of your ads . . . 100 percent of them have been negative.\"\\'',\n",
       "        \"Tweets said, 'Desmond Tutu died on Oct. 20, 2021.'\",\n",
       "        'Chain email said, \\'\"All non-US citizens, illegal or not, will be provided with free health care services.\"\\'',\n",
       "        ...,\n",
       "        'Josh Kaul said, \\'Says people convicted of felonies or under restraining orders \"can buy a firearm without going through a background check.\"\\'',\n",
       "        'Eric Holcomb said, \\'\"We’re growing union jobs faster than Illinois.\"\\'',\n",
       "        \"Barack Obama said, 'The Obama administration increased the deportation of illegal immigrants convicted of crimes by 70 percent.'\"],\n",
       "       dtype='<U395'),\n",
       " 'y_test': array([0, 0, 0, ..., 5, 5, 5])}"
      ]
     },
     "execution_count": 7,
     "metadata": {},
     "output_type": "execute_result"
    }
   ],
   "source": [
    "module.data"
   ]
  },
  {
   "cell_type": "code",
   "execution_count": null,
   "metadata": {},
   "outputs": [],
   "source": []
  }
 ],
 "metadata": {
  "kernelspec": {
   "display_name": "Python 3 (ipykernel)",
   "language": "python",
   "name": "python3"
  },
  "language_info": {
   "codemirror_mode": {
    "name": "ipython",
    "version": 3
   },
   "file_extension": ".py",
   "mimetype": "text/x-python",
   "name": "python",
   "nbconvert_exporter": "python",
   "pygments_lexer": "ipython3",
   "version": "3.8.16"
  }
 },
 "nbformat": 4,
 "nbformat_minor": 2
}
