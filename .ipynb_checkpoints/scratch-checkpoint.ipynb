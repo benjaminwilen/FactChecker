{
 "cells": [
  {
   "cell_type": "code",
   "execution_count": 2,
   "metadata": {},
   "outputs": [],
   "source": [
    "from FactChecker import * #imports all functions from chatbot.py\n",
    "\n",
    "# The lines below auto-reload the code you write in chatbot.py \n",
    "%load_ext autoreload\n",
    "%autoreload 2"
   ]
  },
  {
   "cell_type": "code",
   "execution_count": 3,
   "metadata": {},
   "outputs": [
    {
     "name": "stdout",
     "output_type": "stream",
     "text": [
      "Training OR classifier\n",
      "Optimization terminated successfully.\n",
      "         Current function value: 1.533645\n",
      "         Iterations: 379\n",
      "         Function evaluations: 381\n",
      "         Gradient evaluations: 381\n",
      "Predicting test set\n",
      "Test Set Accuracy:  0.27\n"
     ]
    }
   ],
   "source": [
    "fc = FactChecker(\"bert\", \"OR\")\n",
    "fc.trainClassifier()\n",
    "print(\"Test Set Accuracy: \", fc.get_training_data_accuracy())"
   ]
  },
  {
   "cell_type": "code",
   "execution_count": 4,
   "metadata": {},
   "outputs": [
    {
     "name": "stdout",
     "output_type": "stream",
     "text": [
      "t5-small: \n",
      "pants-fire:  0.505\n",
      "false:  0.165\n",
      "mostly-false:  0.16\n",
      "half-true:  0.15\n",
      "mostly-true:  0.145\n",
      "true:  0.495\n"
     ]
    }
   ],
   "source": [
    "import numpy as np\n",
    "print(\"t5-small: \")\n",
    "print(\"pants-fire: \", np.mean(fc.predictions[:200] == fc.y[:200]))\n",
    "print(\"false: \", np.mean(fc.predictions[200:400] == fc.y[200:400]))\n",
    "print(\"mostly-false: \", np.mean(fc.predictions[400:600] == fc.y[400:600]))\n",
    "print(\"half-true: \", np.mean(fc.predictions[600:800] == fc.y[600:800]))\n",
    "print(\"mostly-true: \", np.mean(fc.predictions[800:1000] == fc.y[800:1000]))\n",
    "print(\"true: \", np.mean(fc.predictions[1000:] == fc.y[1000:]))"
   ]
  },
  {
   "cell_type": "code",
   "execution_count": 5,
   "metadata": {},
   "outputs": [
    {
     "name": "stdout",
     "output_type": "stream",
     "text": [
      "All three averaged: \n",
      "pants-fire:  0.5366666666666666\n",
      "false:  0.15\n",
      "mostly-false:  0.14666666666666667\n",
      "half-true:  0.15\n",
      "mostly-true:  0.13\n",
      "true:  0.49666666666666676\n"
     ]
    }
   ],
   "source": [
    "print(\"All three averaged: \")\n",
    "print(\"pants-fire: \", (.505 + .54 + .565) / 3)\n",
    "print(\"false: \", (.165 + .165 + .12) / 3)\n",
    "print(\"mostly-false: \", (.16 + .155 + .125) / 3)\n",
    "print(\"half-true: \", (.15 + .145 + .155) / 3)\n",
    "print(\"mostly-true: \", (.145 + .135 + .11) / 3)\n",
    "print(\"true: \", (.495 + .44 + .555) / 3)"
   ]
  },
  {
   "cell_type": "code",
   "execution_count": 48,
   "metadata": {
    "scrolled": true
   },
   "outputs": [
    {
     "name": "stdout",
     "output_type": "stream",
     "text": [
      "Training LR classifier\n",
      "Predicting test set\n",
      "Test Set Accuracy:  0.26666666666666666\n"
     ]
    },
    {
     "name": "stderr",
     "output_type": "stream",
     "text": [
      "/Users/benjaminwilen/miniconda3/envs/cs375/lib/python3.8/site-packages/sklearn/linear_model/_logistic.py:458: ConvergenceWarning: lbfgs failed to converge (status=1):\n",
      "STOP: TOTAL NO. of ITERATIONS REACHED LIMIT.\n",
      "\n",
      "Increase the number of iterations (max_iter) or scale the data as shown in:\n",
      "    https://scikit-learn.org/stable/modules/preprocessing.html\n",
      "Please also refer to the documentation for alternative solver options:\n",
      "    https://scikit-learn.org/stable/modules/linear_model.html#logistic-regression\n",
      "  n_iter_i = _check_optimize_result(\n"
     ]
    },
    {
     "data": {
      "text/plain": [
       "array([5, 4, 5, ..., 5, 4, 4])"
      ]
     },
     "execution_count": 48,
     "metadata": {},
     "output_type": "execute_result"
    }
   ],
   "source": [
    "fc = FactChecker(\"t5-small\", \"LR\")\n",
    "fc.trainClassifier()\n",
    "print(\"Test Set Accuracy: \", fc.get_training_data_accuracy())"
   ]
  },
  {
   "cell_type": "code",
   "execution_count": 51,
   "metadata": {},
   "outputs": [
    {
     "name": "stdout",
     "output_type": "stream",
     "text": [
      "pants-fire:  0.345\n",
      "false:  0.295\n",
      "mostly-false:  0.1\n",
      "half-true:  0.175\n",
      "mostly-true:  0.225\n",
      "true:  0.46\n"
     ]
    }
   ],
   "source": [
    "import numpy as np\n",
    "print(\"pants-fire: \", np.mean(fc.predictions[:200] == fc.y[:200]))\n",
    "print(\"false: \", np.mean(fc.predictions[200:400] == fc.y[200:400]))\n",
    "print(\"mostly-false: \", np.mean(fc.predictions[400:600] == fc.y[400:600]))\n",
    "print(\"half-true: \", np.mean(fc.predictions[600:800] == fc.y[600:800]))\n",
    "print(\"mostly-true: \", np.mean(fc.predictions[800:1000] == fc.y[800:1000]))\n",
    "print(\"true: \", np.mean(fc.predictions[1000:] == fc.y[1000:]))"
   ]
  },
  {
   "cell_type": "code",
   "execution_count": null,
   "metadata": {},
   "outputs": [],
   "source": [
    "fc = FactChecker(\"t5-large\", \"OR\")\n",
    "fc.trainClassifier()\n",
    "print(\"Test Set Accuracy: \", fc.get_training_data_accuracy())"
   ]
  },
  {
   "cell_type": "code",
   "execution_count": null,
   "metadata": {},
   "outputs": [],
   "source": []
  }
 ],
 "metadata": {
  "kernelspec": {
   "display_name": "Python 3 (ipykernel)",
   "language": "python",
   "name": "python3"
  },
  "language_info": {
   "codemirror_mode": {
    "name": "ipython",
    "version": 3
   },
   "file_extension": ".py",
   "mimetype": "text/x-python",
   "name": "python",
   "nbconvert_exporter": "python",
   "pygments_lexer": "ipython3",
   "version": "3.8.16"
  }
 },
 "nbformat": 4,
 "nbformat_minor": 2
}
